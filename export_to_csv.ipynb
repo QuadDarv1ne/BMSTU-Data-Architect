{
 "cells": [
  {
   "cell_type": "code",
   "execution_count": null,
   "id": "91282f85",
   "metadata": {},
   "outputs": [
    {
     "name": "stdout",
     "output_type": "stream",
     "text": [
      "Таблица Teachers экспортирована в Teachers.csv\n",
      "Таблица Departments экспортирована в Departments.csv\n",
      "Таблица Students экспортирована в Students.csv\n",
      "Таблица Courses экспортирована в Courses.csv\n",
      "Таблица Schedule экспортирована в Schedule.csv\n",
      "Таблица Enrollments экспортирована в Enrollments.csv\n",
      "Таблица Grades экспортирована в Grades.csv\n",
      "Таблица Attendance экспортирована в Attendance.csv\n",
      "Таблица Assignments экспортирована в Assignments.csv\n",
      "Таблица AssignmentGrades экспортирована в AssignmentGrades.csv\n",
      "Соединение с базой данных закрыто\n"
     ]
    }
   ],
   "source": [
    "\"\"\"\n",
    "Установка необходимых библиотек:\n",
    "~ pip install mysql-connector-python mysql\n",
    "\"\"\"\n",
    "\n",
    "import csv\n",
    "import mysql.connector\n",
    "from mysql.connector import Error\n",
    "\n",
    "# Конфигурация подключения к базе данных\n",
    "DB_CONFIG = {\n",
    "    'host': 'localhost',\n",
    "    'user': 'ваш_логин',\n",
    "    'password': 'ваш_пароль',\n",
    "    'database': 'educational_institution',\n",
    "    'charset': 'utf8mb4'\n",
    "}\n",
    "\n",
    "# Список таблиц для экспорта\n",
    "TABLES = [\n",
    "    'Teachers', 'Departments', 'Students', 'Courses',\n",
    "    'Schedule', 'Enrollments', 'Grades', 'Attendance',\n",
    "    'Assignments', 'AssignmentGrades'\n",
    "]\n",
    "\n",
    "def export_tables_to_csv():\n",
    "    try:\n",
    "        # Подключение к базе данных\n",
    "        connection = mysql.connector.connect(**DB_CONFIG)\n",
    "        cursor = connection.cursor()\n",
    "\n",
    "        for table in TABLES:\n",
    "            # Выполнение SQL-запроса\n",
    "            cursor.execute(f\"SELECT * FROM {table}\")\n",
    "            rows = cursor.fetchall()\n",
    "            \n",
    "            # Получение названий столбцов\n",
    "            cursor.execute(f\"SHOW COLUMNS FROM {table}\")\n",
    "            columns = [col[0] for col in cursor.fetchall()]\n",
    "\n",
    "            # Создание CSV-файла\n",
    "            with open(f'{table}.csv', 'w', newline='', encoding='utf-8-sig') as csvfile:\n",
    "                writer = csv.writer(csvfile, delimiter=',', quoting=csv.QUOTE_MINIMAL)\n",
    "                writer.writerow(columns)  # Запись заголовков\n",
    "                writer.writerows(rows)    # Запись данных\n",
    "\n",
    "            print(f'Таблица {table} экспортирована в {table}.csv')\n",
    "\n",
    "    except Error as e:\n",
    "        print(f'Ошибка подключения к MySQL: {e}')\n",
    "    finally:\n",
    "        if connection.is_connected():\n",
    "            cursor.close()\n",
    "            connection.close()\n",
    "            print('Соединение с базой данных закрыто')\n",
    "\n",
    "if __name__ == '__main__':\n",
    "    export_tables_to_csv()\n"
   ]
  }
 ],
 "metadata": {
  "kernelspec": {
   "display_name": "Python 3",
   "language": "python",
   "name": "python3"
  },
  "language_info": {
   "codemirror_mode": {
    "name": "ipython",
    "version": 3
   },
   "file_extension": ".py",
   "mimetype": "text/x-python",
   "name": "python",
   "nbconvert_exporter": "python",
   "pygments_lexer": "ipython3",
   "version": "3.13.5"
  }
 },
 "nbformat": 4,
 "nbformat_minor": 5
}
